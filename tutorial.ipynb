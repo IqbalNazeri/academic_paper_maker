{
 "cells": [
  {
   "metadata": {},
   "cell_type": "raw",
   "source": "# Create Database",
   "id": "f68b939ac15b1636"
  },
  {
   "metadata": {
    "collapsed": true,
    "jupyter": {
     "is_executing": true
    }
   },
   "cell_type": "code",
   "outputs": [],
   "execution_count": null,
   "source": [
    "from download_pdf.database_preparation import combine_scopus_csvs_to_excel\n",
    "from setting.project_path import project_folder\n",
    "import os\n",
    "project_review='wafer_defect'\n",
    "path_dic=project_folder(project_review=project_review)\n",
    "folder_path =os.path.join(path_dic['main_folder'],'database','scopus')\n",
    "    # r\"C:\\Users\\balan\\OneDrive - ums.edu.my\\research_related\\corona_discharge\\database\\scopus\"\n",
    "output_excel = os.path.join(path_dic['main_folder'],'database','wafer_database.xlsx')\n",
    "    # r\"C:\\Users\\balan\\OneDrive - ums.edu.my\\research_related\\corona_discharge\\database\\combined_filtered.xlsx\"\n",
    "\n",
    "combine_scopus_csvs_to_excel(folder_path, output_excel)\n"
   ],
   "id": "initial_id"
  },
  {
   "metadata": {},
   "cell_type": "markdown",
   "source": "# Filter Database",
   "id": "126f86c70eafde2e"
  },
  {
   "metadata": {},
   "cell_type": "code",
   "outputs": [],
   "execution_count": null,
   "source": "",
   "id": "80334d7939d4b75a"
  },
  {
   "metadata": {},
   "cell_type": "code",
   "outputs": [],
   "execution_count": null,
   "source": [
    "from research_filter.auto_llm import run_pipeline\n",
    "# project_review='eeg_review'\n",
    "project_review='wafer_defect'\n",
    "path_dic=project_folder(project_review=project_review)\n",
    "main_folder = path_dic['main_folder']\n",
    "\n",
    "# Editable variables\n",
    "# model_name = \"gpt-4o\"  # or \"gpt-4o\"\n",
    "model_name=\"gpt-4o-mini\"\n",
    "# model_name=\"gpt-o3-mini\"\n",
    "# model_name='gemini-1.5-pro'\n",
    "\n",
    "# model_name='gemini-exp-1206'\n",
    "# model_name='gemini-2.0-flash-thinking-exp-01-21'\n",
    "\n",
    "\n",
    "agentic_setting = {\n",
    "    \"agent_name\": \"abstract_wafer_abstract_filter\",\n",
    "    \"column_name\": \"abstract_wafer_abstract_filter\",\n",
    "    \"yaml_path\": \"agent/agent_ml.yaml\",\n",
    "    \"model_name\": model_name\n",
    "}\n",
    "\n",
    "methodology_json_folder=os.path.join(main_folder,agentic_setting['agent_name'],'json_output')\n",
    "multiple_runs_folder =os.path.join(main_folder,agentic_setting['agent_name'],'multiple_runs_folder')\n",
    "final_cross_check_folder = os.path.join(main_folder,agentic_setting['agent_name'],'final_cross_check_folder')\n",
    "\n",
    "csv_path = path_dic['csv_path']\n",
    "# Basic placeholders for roles\n",
    "placeholders = {} # we just ignore this as im to lazy to generalize things\n",
    "\n",
    "\n",
    "process_setup={\n",
    "    'batch_process':False,  # This is for the batch processing which have 50% discount. use with the code research_filter/check_batch_process.py\n",
    "    'manual_paste_llm':False,       # This is for the manual paste of the LLM\n",
    "    'iterative_confirmation':False,\n",
    "    'overwrite_csv':False,      # careful when set to true as this will overwrite the csv file\n",
    "    'cross_check_enabled':False,\n",
    "    'cross_check_runs':3,\n",
    "    'cross_check_agent_name':'agent_cross_check',\n",
    "    'cleanup_json':False\n",
    "}\n",
    "\n",
    "# Run pipeline\n",
    "run_pipeline(\n",
    "    agentic_setting ,process_setup,\n",
    "    placeholders=placeholders,\n",
    "    csv_path=csv_path,\n",
    "    main_folder=main_folder,\n",
    "    methodology_json_folder=methodology_json_folder,\n",
    "    multiple_runs_folder=multiple_runs_folder,\n",
    "    final_cross_check_folder=final_cross_check_folder,\n",
    ")\n",
    "\n"
   ],
   "id": "8358109c67e59bad"
  },
  {
   "metadata": {},
   "cell_type": "markdown",
   "source": "# Download pdf",
   "id": "c52009f24f25e06b"
  },
  {
   "metadata": {},
   "cell_type": "code",
   "outputs": [],
   "execution_count": null,
   "source": [
    "from download_pdf.download_pdf import run_pipeline,process_scihub_downloads,process_fallback_ieee,process_fallback_mdpi,process_fallback_sciencedirect\n",
    "\n",
    "project_review='wafer_defect'\n",
    "path_dic=project_folder(project_review=project_review)\n",
    "main_folder = path_dic['main_folder']\n",
    "\n",
    "# csv_path = path_dic['csv_path']\n",
    "# pdf_store_directory = os.path.join(main_folder, 'pdf')\n",
    "\n",
    "\n",
    "file_path = path_dic['csv_path']\n",
    "output_folder =  os.path.join(main_folder, 'pdf')\n",
    "\n",
    "categories,data_filtered=run_pipeline(file_path)\n",
    "\n",
    "# First step, we will always use the scihub to download the pdf\n",
    "process_scihub_downloads(categories, output_folder, data_filtered)\n",
    "\n",
    "# Skipping the IEEE fallback step for testing\n",
    "process_fallback_ieee(categories, data_filtered, output_folder)\n",
    "\n",
    "# process_fallback_ieee_search(categories, data_filtered, output_folder)\n",
    "\n",
    "# process_fallback_mdpi(categories, data_filtered, output_folder)\n",
    "\n",
    "# The sciencedirect only allow to extract the url, but not able to download the pdf due to the tight security feature\n",
    "# process_fallback_sciencedirect(categories, data_filtered, output_folder)\n",
    "# save_data(data_filtered, file_path)\n"
   ],
   "id": "51e671c891f7ac30"
  }
 ],
 "metadata": {
  "kernelspec": {
   "display_name": "Python 3",
   "language": "python",
   "name": "python3"
  },
  "language_info": {
   "codemirror_mode": {
    "name": "ipython",
    "version": 2
   },
   "file_extension": ".py",
   "mimetype": "text/x-python",
   "name": "python",
   "nbconvert_exporter": "python",
   "pygments_lexer": "ipython2",
   "version": "2.7.6"
  }
 },
 "nbformat": 4,
 "nbformat_minor": 5
}
