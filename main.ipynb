{
 "cells": [
  {
   "metadata": {},
   "cell_type": "markdown",
   "source": [
    "# 📦 Step 1: Install Required Packages\n",
    "\n",
    "Before you start using this notebook, make sure all the necessary Python packages are installed. These packages are listed in the `requirements.txt` file.\n",
    "\n",
    "## 💻 How to Install\n",
    "\n",
    "Open your terminal or command prompt, navigate to the project directory (where `requirements.txt` is located), and run:\n",
    "\n",
    "```bash\n",
    "pip install -r requirements.txt\n",
    "```\n",
    "\n",
    "This command will automatically install all dependencies needed for the notebook and project to run smoothly.\n",
    "\n",
    "> ✅ **Tip:** If you're using a virtual environment (recommended), make sure it's activated before running the command.\n",
    "\n",
    "## 🛠️ Troubleshooting\n",
    "\n",
    "* If you get a \"permission denied\" error, try adding `--user`:\n",
    "\n",
    "  ```bash\n",
    "  pip install --user -r requirements.txt\n",
    "  ```\n",
    "\n",
    "* If you're working in Jupyter and want to install directly from a notebook cell, you can run:\n",
    "\n",
    "  ```python\n",
    "  !pip install -r requirements.txt\n",
    "  ```"
   ],
   "id": "388df311542bae67"
  },
  {
   "metadata": {},
   "cell_type": "markdown",
   "source": [
    "# 🔧 Second Step: Create and Register Your Project Folder\n",
    "\n",
    "In this step, you'll register the **main project folder**, so the system knows where to store and retrieve all files related to your project.\n",
    "\n",
    "This setup automatically creates a structured folder system under your specified `main_folder`, and stores the configuration in a central JSON file. This ensures your projects remain organized, especially when working with multiple studies or datasets.\n",
    "\n",
    "---\n",
    "\n",
    "## 🗂️ Project Folder Structure\n",
    "\n",
    "On the first run, the following folder structure will be automatically created under your specified `main_folder`:\n",
    "\n",
    "```\n",
    "main_folder/\n",
    "├── database/\n",
    "│   └── scopus/\n",
    "│   └── <project_name>_database.xlsx  ← auto-generated path (not file creation)\n",
    "├── pdf/\n",
    "└── xml/\n",
    "```\n",
    "\n",
    "---\n",
    "\n",
    "## 💡 Example\n",
    "\n",
    "Suppose your project name is `corona_discharge`, and you want to store all project files under:\n",
    "\n",
    "```\n",
    "G:\\My Drive\\research_related\\ear_eog\n",
    "```\n",
    "\n",
    "You can register this setup by running:\n",
    "\n",
    "```python\n",
    "project_folder(\n",
    "    project_review='corona_discharge',\n",
    "    main_folder=r'G:\\My Drive\\research_related\\ear_eog'\n",
    ")\n",
    "```\n",
    "\n",
    "✅ This will:\n",
    "\n",
    "* Save the project path in `setting/project_folders.json`\n",
    "* Create the full folder structure: `database/scopus`, `pdf`, and `xml`\n",
    "\n",
    "---\n",
    "\n",
    "## 🔁 Loading the Project Later\n",
    "\n",
    "Once registered, you can access the project folders in future sessions by providing just the `project_review` name:\n",
    "\n",
    "```python\n",
    "paths = project_folder(project_review='corona_discharge')\n",
    "\n",
    "print(paths['main_folder'])  # Main project folder\n",
    "print(paths['csv_path'])     # Path to the Excel database file\n",
    "```\n",
    "\n",
    "---\n",
    "\n",
    "## ⚙️ What Happens in the Background?\n",
    "\n",
    "* A file named `project_folders.json` is stored in the `setting/` directory within your project.\n",
    "* It maps each `project_review` to its corresponding `main_folder`.\n",
    "* Folder structure is created automatically on the first run.\n",
    "* On subsequent runs, the system reads the JSON to locate your project — no need to re-enter paths.\n"
   ],
   "id": "8f032c61e06fff01"
  },
  {
   "metadata": {
    "ExecuteTime": {
     "end_time": "2025-05-07T12:38:57.346686Z",
     "start_time": "2025-05-07T12:38:57.340785Z"
    }
   },
   "cell_type": "code",
   "source": [
    "from setting.project_path import project_folder\n",
    "project_name='corona_discharge'\n",
    "main_folder=r\"D:\\my_project\"\n",
    "\n",
    "project_folder(project_review=project_name, main_folder=main_folder)"
   ],
   "id": "95782a760f85b5b1",
   "outputs": [
    {
     "data": {
      "text/plain": [
       "{'main_folder': 'D:\\\\my_project',\n",
       " 'csv_path': 'D:\\\\my_project\\\\database\\\\corona_discharge_database.xlsx'}"
      ]
     },
     "execution_count": 6,
     "metadata": {},
     "output_type": "execute_result"
    }
   ],
   "execution_count": 6
  },
  {
   "metadata": {},
   "cell_type": "markdown",
   "source": [
    "# 📥 Third Step: Download the Scopus BibTeX File\n",
    "\n",
    "In this step, you'll use the **Scopus database** to find and download relevant papers for your project. Scopus is a comprehensive and widely-used repository of peer-reviewed academic literature.\n",
    "\n",
    "---\n",
    "\n",
    "## 🔍 Using Scopus Advanced Search\n",
    "\n",
    "To retrieve high-quality and relevant papers, we recommend using **Scopus' Advanced Search** feature. This powerful tool lets you refine your search based on:\n",
    "\n",
    "* Keywords\n",
    "* Authors\n",
    "* Publication dates\n",
    "* Document types\n",
    "* And more...\n",
    "\n",
    "This ensures that your literature collection is both targeted and comprehensive.\n",
    "\n",
    "---\n",
    "\n",
    "## 💡 Get Keyword Ideas with a Prompt\n",
    "\n",
    "To help you formulate effective search queries, you can use the following **prompt-based suggestion tool**:\n",
    "\n",
    "👉 [Keyword Search Prompt](https://gist.github.com/balandongiv/886437963d38252e61634ddc00b9d983)\n",
    "\n",
    "You may need to modify the prompt to better suit your research domain. Here are some example domains:\n",
    "\n",
    "* `\"corona discharge\"`\n",
    "* `\"fatigue driving EEG\"`\n",
    "* `\"wafer classification\"`\n",
    "\n",
    "Feel free to add, remove, or tweak keywords as needed to refine your search results.\n",
    "\n",
    "---\n",
    "\n",
    "## 💾 Save and Organize Your Results\n",
    "\n",
    "Once you've finalized your search:\n",
    "\n",
    "1. **Select all available attributes** when exporting results from Scopus.\n",
    "2. Choose the **BibTeX** format when saving the export file.\n",
    "3. Save the file inside the `database/scopus/` folder of your project.\n",
    "\n",
    "The resulting folder structure might look like this:\n",
    "\n",
    "```\n",
    "main_folder/\n",
    "├── database/\n",
    "│   └── scopus/\n",
    "│       ├── scopus(1).bib\n",
    "│       ├── scopus(2).bib\n",
    "│       ├── scopus(3).bib\n",
    "```\n",
    "\n",
    "Make sure the BibTeX files are correctly named and stored to ensure smooth integration in later steps."
   ],
   "id": "72c1fb6183a242ad"
  },
  {
   "metadata": {},
   "cell_type": "markdown",
   "source": [
    "# 📊 Fourth Step: Combine Scopus BibTeX Files into Excel\n",
    "\n",
    "Once you've downloaded multiple `.bib` files from Scopus, the next step is to **combine and convert** them into a structured Excel file. This makes it easier to filter, sort, and review the metadata of all collected papers.\n",
    "\n",
    "---\n",
    "\n",
    "## 🧰 What This Step Does\n",
    "\n",
    "* Loads all `.bib` files from your project's `database/scopus/` folder\n",
    "* Parses the relevant metadata (e.g., title, authors, year, source, DOI)\n",
    "* Combines the results into a single Excel spreadsheet\n",
    "* Saves the spreadsheet in the `database/` folder as `combined_filtered.xlsx`\n",
    "\n",
    "\n",
    "\n",
    "## 📁 Folder Structure Example\n",
    "\n",
    "After running the script, your folder might look like this:\n",
    "\n",
    "```\n",
    "main_folder/\n",
    "├── database/\n",
    "│   ├── scopus/\n",
    "│   │   ├── scopus(1).bib\n",
    "│   │   ├── scopus(2).bib\n",
    "│   │   ├── scopus(3).bib\n",
    "│   └── combined_filtered.xlsx\n",
    "```\n",
    "\n",
    "This Excel file will serve as your primary reference for filtering papers before downloading PDFs.\n"
   ],
   "id": "b5539ae56b1485ef"
  },
  {
   "metadata": {
    "ExecuteTime": {
     "end_time": "2025-05-07T13:26:21.079952Z",
     "start_time": "2025-05-07T13:26:20.976600Z"
    }
   },
   "cell_type": "code",
   "source": [
    "import os\n",
    "from download_pdf.database_preparation import combine_scopus_bib_to_excel\n",
    "from setting.project_path import project_folder\n",
    "\n",
    "project_review='corona_discharge'\n",
    "path_dic=project_folder(project_review=project_review)\n",
    "main_folder = path_dic['main_folder']\n",
    "folder_path=os.path.join(main_folder,'database','scopus')\n",
    "output_excel =  os.path.join(main_folder,'database','combined_filtered.xlsx')\n",
    "combine_scopus_bib_to_excel(folder_path, output_excel)"
   ],
   "id": "initial_id",
   "outputs": [
    {
     "name": "stdout",
     "output_type": "stream",
     "text": [
      "Found 3 .bib files in D:\\my_project\\database\\scopus\n",
      "Initial number of rows: 7\n",
      "Number of rows after duplicate removal: 5. Total duplicates removed: 2\n",
      "These are the unique publisher_long values: ['Nature Research' 'Springer Science and Business Media B.V.'\n",
      " 'BioMed Central Ltd']\n",
      "['nature' 'springer' 'biomedcentral']\n",
      "Combined file has been saved to: D:\\my_project\\database\\combined_filtered.xlsx\n"
     ]
    }
   ],
   "execution_count": 8
  },
  {
   "metadata": {},
   "cell_type": "markdown",
   "source": [
    "# Combine to master listvv\n",
    "\n",
    "\n",
    "When use the agent_name=\"section_sorter\", sometime, the section ID is not matched with the master json file.\n",
    "This make it difficult to compile the childrent json(i.e., all the json from llm) into master file\n",
    "\n",
    "This code use different strategy to match the section ID with the master json file.\n",
    "`C:\\Users\\balan\\IdeaProjects\\academic_paper_maker\\research_filter\\section_sorter_to_json_masterfile.py`"
   ],
   "id": "7452caa60a1b9fbd"
  },
  {
   "metadata": {},
   "cell_type": "markdown",
   "source": [
    "# Excel to bib\n",
    "\n"
   ],
   "id": "3c8648d56cd6763f"
  },
  {
   "metadata": {},
   "cell_type": "code",
   "outputs": [],
   "execution_count": null,
   "source": [
    "from post_code_saviour.excel_to_bib import generate_bibtex\n",
    "import pandas as pd\n",
    " # Load the Excel file\n",
    "file_path = r\"C:\\Users\\balan\\IdeaProjects\\academic_paper_maker\\bib_example\\combined_filtered.xlsx\"\n",
    "output_path=r\"C:\\Users\\balan\\IdeaProjects\\academic_paper_maker\\bib_example\\xcombined_filtered.bib\"\n",
    "\n",
    "df = pd.read_excel(file_path)\n",
    "\n",
    "# Generate BibTeX\n",
    "generate_bibtex(df,output_file=output_path)\n"
   ],
   "id": "733c71ac3ede47b8"
  }
 ],
 "metadata": {
  "kernelspec": {
   "display_name": "Python 3",
   "language": "python",
   "name": "python3"
  },
  "language_info": {
   "codemirror_mode": {
    "name": "ipython",
    "version": 2
   },
   "file_extension": ".py",
   "mimetype": "text/x-python",
   "name": "python",
   "nbconvert_exporter": "python",
   "pygments_lexer": "ipython2",
   "version": "2.7.6"
  }
 },
 "nbformat": 4,
 "nbformat_minor": 5
}
